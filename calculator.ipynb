{
  "nbformat": 4,
  "nbformat_minor": 0,
  "metadata": {
    "colab": {
      "name": "calculator.ipynb",
      "provenance": [],
      "authorship_tag": "ABX9TyOiQV3yeXdaLNE69VmdKN50",
      "include_colab_link": true
    },
    "kernelspec": {
      "name": "python3",
      "display_name": "Python 3"
    },
    "language_info": {
      "name": "python"
    }
  },
  "cells": [
    {
      "cell_type": "markdown",
      "metadata": {
        "id": "view-in-github",
        "colab_type": "text"
      },
      "source": [
        "<a href=\"https://colab.research.google.com/github/district987/udp_checksum_binary_calculator/blob/main/calculator.ipynb\" target=\"_parent\"><img src=\"https://colab.research.google.com/assets/colab-badge.svg\" alt=\"Open In Colab\"/></a>"
      ]
    },
    {
      "cell_type": "markdown",
      "source": [
        "Wörter in die erste Zeile, Checksum in die zweite. Vorm starten Play beim binarywrappadder drücken"
      ],
      "metadata": {
        "id": "UolY3jy1bpD7"
      }
    },
    {
      "cell_type": "code",
      "execution_count": null,
      "metadata": {
        "id": "LZhjJcEcaiio"
      },
      "outputs": [],
      "source": [
        "binarystringarray= [\"0b0111010101111110\", \"0b0010001000010000\", \"0b1010001101101011\"]\n",
        "checksum = int(\"0b1100010100000101\",2)\n",
        "result = 0\n",
        "for x in binarystringarray:\n",
        "    binarystringarray[binarystringarray.index(x)] = int(x,2)\n",
        "for x in binarystringarray:\n",
        "    print(\"     \"+bin(x))\n",
        "    print(\"+    \"+bin(result))\n",
        "    result = binarywrapadder(result, x)\n",
        "    print(\"_______________________________\")\n",
        "    print(\"=     \"+bin(result))\n",
        "    print(\"_______________________________\")\n",
        "print(\"Ergebnis: \" + bin(result))\n",
        "\n",
        "print(\"Check Checksum:\")\n",
        "checksumcheck = result + checksum #checksum ^ result\n",
        "print(bin(checksumcheck))\n"
      ]
    },
    {
      "cell_type": "code",
      "source": [
        "def binarywrapadder(bin1, bin2):\n",
        "    carry  = \"0b0000000000000001\"\n",
        "    delete = \"0b1000000000000000\"\n",
        "    toomuch = \"0b1111111111111111\"\n",
        "\n",
        "    carry = int(carry,2)\n",
        "    delete = int(delete,2)\n",
        "    toomuch = int(toomuch,2)\n",
        "\n",
        "    result = bin1 + bin2\n",
        "    if result > toomuch:\n",
        "        result = result-delete-delete  #Warum funktioniert das mit 2 mal delete? lol, aber was solls.\n",
        "        result = result+carry\n",
        "\n",
        "    return result"
      ],
      "metadata": {
        "id": "FThFHFUFbBNn"
      },
      "execution_count": 3,
      "outputs": []
    }
  ]
}