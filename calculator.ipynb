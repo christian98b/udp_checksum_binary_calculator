{
  "nbformat": 4,
  "nbformat_minor": 0,
  "metadata": {
    "colab": {
      "name": "calculator.ipynb",
      "provenance": [],
      "authorship_tag": "ABX9TyMM9Owp4rPS2xyugS1KuHe0",
      "include_colab_link": true
    },
    "kernelspec": {
      "name": "python3",
      "display_name": "Python 3"
    },
    "language_info": {
      "name": "python"
    }
  },
  "cells": [
    {
      "cell_type": "markdown",
      "metadata": {
        "id": "view-in-github",
        "colab_type": "text"
      },
      "source": [
        "<a href=\"https://colab.research.google.com/github/district987/udp_checksum_binary_calculator/blob/main/calculator.ipynb\" target=\"_parent\"><img src=\"https://colab.research.google.com/assets/colab-badge.svg\" alt=\"Open In Colab\"/></a>"
      ]
    },
    {
      "cell_type": "code",
      "execution_count": 1,
      "metadata": {
        "colab": {
          "base_uri": "https://localhost:8080/",
          "height": 269
        },
        "id": "LZhjJcEcaiio",
        "outputId": "5606df4f-3ee4-4f61-8ea5-3420406deb61"
      },
      "outputs": [
        {
          "output_type": "stream",
          "name": "stdout",
          "text": [
            "     0b111010101111110\n",
            "+    0b0\n"
          ]
        },
        {
          "output_type": "error",
          "ename": "NameError",
          "evalue": "ignored",
          "traceback": [
            "\u001b[0;31m---------------------------------------------------------------------------\u001b[0m",
            "\u001b[0;31mNameError\u001b[0m                                 Traceback (most recent call last)",
            "\u001b[0;32m<ipython-input-1-e93289679154>\u001b[0m in \u001b[0;36m<module>\u001b[0;34m()\u001b[0m\n\u001b[1;32m      7\u001b[0m     \u001b[0mprint\u001b[0m\u001b[0;34m(\u001b[0m\u001b[0;34m\"     \"\u001b[0m\u001b[0;34m+\u001b[0m\u001b[0mbin\u001b[0m\u001b[0;34m(\u001b[0m\u001b[0mx\u001b[0m\u001b[0;34m)\u001b[0m\u001b[0;34m)\u001b[0m\u001b[0;34m\u001b[0m\u001b[0;34m\u001b[0m\u001b[0m\n\u001b[1;32m      8\u001b[0m     \u001b[0mprint\u001b[0m\u001b[0;34m(\u001b[0m\u001b[0;34m\"+    \"\u001b[0m\u001b[0;34m+\u001b[0m\u001b[0mbin\u001b[0m\u001b[0;34m(\u001b[0m\u001b[0mresult\u001b[0m\u001b[0;34m)\u001b[0m\u001b[0;34m)\u001b[0m\u001b[0;34m\u001b[0m\u001b[0;34m\u001b[0m\u001b[0m\n\u001b[0;32m----> 9\u001b[0;31m     \u001b[0mresult\u001b[0m \u001b[0;34m=\u001b[0m \u001b[0mbinarywrapadder\u001b[0m\u001b[0;34m(\u001b[0m\u001b[0mresult\u001b[0m\u001b[0;34m,\u001b[0m \u001b[0mx\u001b[0m\u001b[0;34m)\u001b[0m\u001b[0;34m\u001b[0m\u001b[0;34m\u001b[0m\u001b[0m\n\u001b[0m\u001b[1;32m     10\u001b[0m     \u001b[0mprint\u001b[0m\u001b[0;34m(\u001b[0m\u001b[0;34m\"_______________________________\"\u001b[0m\u001b[0;34m)\u001b[0m\u001b[0;34m\u001b[0m\u001b[0;34m\u001b[0m\u001b[0m\n\u001b[1;32m     11\u001b[0m     \u001b[0mprint\u001b[0m\u001b[0;34m(\u001b[0m\u001b[0;34m\"=     \"\u001b[0m\u001b[0;34m+\u001b[0m\u001b[0mbin\u001b[0m\u001b[0;34m(\u001b[0m\u001b[0mresult\u001b[0m\u001b[0;34m)\u001b[0m\u001b[0;34m)\u001b[0m\u001b[0;34m\u001b[0m\u001b[0;34m\u001b[0m\u001b[0m\n",
            "\u001b[0;31mNameError\u001b[0m: name 'binarywrapadder' is not defined"
          ]
        }
      ],
      "source": [
        "binarystringarray= [\"0b0111010101111110\", \"0b0010001000010000\", \"0b1010001101101011\"]\n",
        "checksum = int(\"0b1100010100000101\",2)\n",
        "result = 0\n",
        "for x in binarystringarray:\n",
        "    binarystringarray[binarystringarray.index(x)] = int(x,2)\n",
        "for x in binarystringarray:\n",
        "    print(\"     \"+bin(x))\n",
        "    print(\"+    \"+bin(result))\n",
        "    result = binarywrapadder(result, x)\n",
        "    print(\"_______________________________\")\n",
        "    print(\"=     \"+bin(result))\n",
        "    print(\"_______________________________\")\n",
        "print(\"Ergebnis: \" + bin(result))\n",
        "\n",
        "print(\"Check Checksum:\")\n",
        "checksumcheck = result + checksum #checksum ^ result\n",
        "print(bin(checksumcheck))\n",
        "\n",
        "def binarywrapadder(bin1, bin2):\n",
        "    carry  = \"0b0000000000000001\"\n",
        "    delete = \"0b1000000000000000\"\n",
        "    toomuch = \"0b1111111111111111\"\n",
        "\n",
        "    carry = int(carry,2)\n",
        "    delete = int(delete,2)\n",
        "    toomuch = int(toomuch,2)\n",
        "\n",
        "    result = bin1 + bin2\n",
        "    if result > toomuch:\n",
        "        result = result-delete-delete  #Warum funktioniert das mit 2 mal delete? lol, aber was solls.\n",
        "        result = result+carry\n",
        "\n",
        "    return result\n"
      ]
    },
    {
      "cell_type": "markdown",
      "source": [
        "# Neuer Abschnitt"
      ],
      "metadata": {
        "id": "afuQo3g8alsh"
      }
    }
  ]
}